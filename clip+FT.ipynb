{
 "cells": [
  {
   "cell_type": "markdown",
   "id": "2a92f678",
   "metadata": {
    "papermill": {
     "duration": 0.00487,
     "end_time": "2023-04-30T17:22:25.214477",
     "exception": false,
     "start_time": "2023-04-30T17:22:25.209607",
     "status": "completed"
    },
    "tags": []
   },
   "source": [
    "# Library"
   ]
  },
  {
   "cell_type": "code",
   "execution_count": 1,
   "id": "854c10c2",
   "metadata": {
    "execution": {
     "iopub.execute_input": "2023-04-30T17:22:25.223992Z",
     "iopub.status.busy": "2023-04-30T17:22:25.223599Z",
     "iopub.status.idle": "2023-04-30T17:22:37.941209Z",
     "shell.execute_reply": "2023-04-30T17:22:37.940147Z"
    },
    "papermill": {
     "duration": 12.725686,
     "end_time": "2023-04-30T17:22:37.944163",
     "exception": false,
     "start_time": "2023-04-30T17:22:25.218477",
     "status": "completed"
    },
    "tags": []
   },
   "outputs": [],
   "source": [
    "import os\n",
    "import random\n",
    "import numpy as np\n",
    "import pandas as pd\n",
    "from PIL import Image\n",
    "from tqdm.notebook import tqdm\n",
    "from scipy import spatial\n",
    "from sklearn.model_selection import train_test_split\n",
    "import torch\n",
    "from torch import nn\n",
    "from torch.utils.data import Dataset, DataLoader\n",
    "from torch.optim.lr_scheduler import CosineAnnealingLR\n",
    "from torchvision import transforms\n",
    "import timm    #并行节点操作\n",
    "from timm.utils import AverageMeter\n",
    "from torch.cuda.amp import autocast,GradScaler\n",
    "import sys\n",
    "sys.path.append('../input/sentence-transformers-222/sentence-transformers')\n",
    "from sentence_transformers import SentenceTransformer\n",
    "import warnings\n",
    "warnings.filterwarnings('ignore')\n",
    "import unicodedata"
   ]
  },
  {
   "cell_type": "code",
   "execution_count": 2,
   "id": "1438bf5b",
   "metadata": {
    "execution": {
     "iopub.execute_input": "2023-04-30T17:22:37.955634Z",
     "iopub.status.busy": "2023-04-30T17:22:37.953448Z",
     "iopub.status.idle": "2023-04-30T17:22:38.131813Z",
     "shell.execute_reply": "2023-04-30T17:22:38.130528Z"
    },
    "papermill": {
     "duration": 0.186303,
     "end_time": "2023-04-30T17:22:38.134678",
     "exception": false,
     "start_time": "2023-04-30T17:22:37.948375",
     "status": "completed"
    },
    "tags": []
   },
   "outputs": [],
   "source": [
    "\n",
    "from pathlib import Path\n",
    "from PIL import Image\n",
    "from tqdm.notebook import tqdm\n",
    "import torch\n",
    "from torch.utils.data import Dataset, DataLoader\n",
    "from torchvision import transforms\n",
    "import timm\n",
    "from torchvision import transforms\n",
    "import pickle\n",
    "from tqdm import tqdm\n",
    "from sklearn.model_selection import train_test_split\n",
    "from glob import glob\n",
    "from torch import nn\n",
    "from PIL import Image\n",
    "from pathlib import Path\n",
    "from transformers import AutoModel, AutoProcessor\n",
    "import cv2\n",
    "import os\n",
    "import random\n",
    "import numpy as np\n",
    "import pandas as pd\n",
    "from pathlib import Path\n",
    "from PIL import Image\n",
    "from tqdm.notebook import tqdm\n",
    "import torch\n",
    "from torch.utils.data import Dataset, DataLoader\n",
    "from torchvision import transforms\n",
    "import timm\n",
    "from timm.models.vision_transformer import Mlp ,PatchEmbed,_cfg\n",
    "\n",
    "BATCHSIZE=128\n",
    "SAVE_OPT_CKP = True\n",
    "SAVE_MODEL_CKP = True\n",
    "UNFREEZE_START = 18 # set it to lower number when significantly more samples are included.\n",
    "\n",
    "torch.backends.cuda.matmul.allow_tf32 = True # allow tf32 on matmul\n",
    "torch.backends.cudnn.allow_tf32 = True # allow tf32 on cudnn\n",
    "\n",
    "# run_name = f'open-clip224-l14'\n",
    "import gc"
   ]
  },
  {
   "cell_type": "code",
   "execution_count": 3,
   "id": "f7fee800",
   "metadata": {
    "execution": {
     "iopub.execute_input": "2023-04-30T17:22:38.144210Z",
     "iopub.status.busy": "2023-04-30T17:22:38.143903Z",
     "iopub.status.idle": "2023-04-30T17:22:48.418924Z",
     "shell.execute_reply": "2023-04-30T17:22:48.417729Z"
    },
    "papermill": {
     "duration": 10.283022,
     "end_time": "2023-04-30T17:22:48.421849",
     "exception": false,
     "start_time": "2023-04-30T17:22:38.138827",
     "status": "completed"
    },
    "tags": []
   },
   "outputs": [
    {
     "name": "stdout",
     "output_type": "stream",
     "text": [
      "\u001b[33mWARNING: Running pip as the 'root' user can result in broken permissions and conflicting behaviour with the system package manager. It is recommended to use a virtual environment instead: https://pip.pypa.io/warnings/venv\u001b[0m\u001b[33m\r\n",
      "\u001b[0m"
     ]
    }
   ],
   "source": [
    "wheels_path = \"/kaggle/input/open-clip-wheels/open_clip_wheels\"\n",
    "open_clip_whl_path = f\"{wheels_path}/open_clip_torch-2.14.0-py3-none-any.whl\"\n",
    "!pip install --no-index --find-links $wheels_path $open_clip_whl_path -q\n",
    "import open_clip"
   ]
  },
  {
   "cell_type": "markdown",
   "id": "bae40777",
   "metadata": {
    "papermill": {
     "duration": 0.004232,
     "end_time": "2023-04-30T17:22:48.430876",
     "exception": false,
     "start_time": "2023-04-30T17:22:48.426644",
     "status": "completed"
    },
    "tags": []
   },
   "source": [
    "# Config"
   ]
  },
  {
   "cell_type": "code",
   "execution_count": 4,
   "id": "39b7c210",
   "metadata": {
    "execution": {
     "iopub.execute_input": "2023-04-30T17:22:48.441445Z",
     "iopub.status.busy": "2023-04-30T17:22:48.441064Z",
     "iopub.status.idle": "2023-04-30T17:22:48.446667Z",
     "shell.execute_reply": "2023-04-30T17:22:48.445517Z"
    },
    "papermill": {
     "duration": 0.013901,
     "end_time": "2023-04-30T17:22:48.449173",
     "exception": false,
     "start_time": "2023-04-30T17:22:48.435272",
     "status": "completed"
    },
    "tags": []
   },
   "outputs": [],
   "source": [
    "class CFG:\n",
    "    model_path = '/kaggle/input/stable-diffusion-convnext-baseline-train/convnext_large_d.pth'\n",
    "    model_name = 'convnext_large_d'  \n",
    "    input_size = 256\n",
    "    batch_size = 16\n",
    "    num_epochs = 1\n",
    "    lr = 1e-9\n",
    "    seed = 42\n"
   ]
  },
  {
   "cell_type": "code",
   "execution_count": 5,
   "id": "fd86d1f8",
   "metadata": {
    "execution": {
     "iopub.execute_input": "2023-04-30T17:22:48.459372Z",
     "iopub.status.busy": "2023-04-30T17:22:48.459003Z",
     "iopub.status.idle": "2023-04-30T17:22:48.533290Z",
     "shell.execute_reply": "2023-04-30T17:22:48.532241Z"
    },
    "papermill": {
     "duration": 0.082019,
     "end_time": "2023-04-30T17:22:48.535577",
     "exception": false,
     "start_time": "2023-04-30T17:22:48.453558",
     "status": "completed"
    },
    "tags": []
   },
   "outputs": [],
   "source": [
    "def seed_everything(seed):\n",
    "    os.environ['PYTHONHASHSEED'] = str(seed)\n",
    "    random.seed(seed)\n",
    "    np.random.seed(seed)\n",
    "    torch.manual_seed(seed)\n",
    "    \n",
    "    if torch.cuda.is_available(): \n",
    "        torch.cuda.manual_seed(seed)\n",
    "        torch.backends.cudnn.deterministic = True    #每次使用相同算法\n",
    "\n",
    "\n",
    "seed_everything(CFG.seed)"
   ]
  },
  {
   "cell_type": "markdown",
   "id": "26595a60",
   "metadata": {
    "papermill": {
     "duration": 0.004024,
     "end_time": "2023-04-30T17:22:48.544114",
     "exception": false,
     "start_time": "2023-04-30T17:22:48.540090",
     "status": "completed"
    },
    "tags": []
   },
   "source": [
    "# Dataset"
   ]
  },
  {
   "cell_type": "code",
   "execution_count": 6,
   "id": "a87dfb83",
   "metadata": {
    "execution": {
     "iopub.execute_input": "2023-04-30T17:22:48.553684Z",
     "iopub.status.busy": "2023-04-30T17:22:48.553084Z",
     "iopub.status.idle": "2023-04-30T17:22:48.559860Z",
     "shell.execute_reply": "2023-04-30T17:22:48.558902Z"
    },
    "papermill": {
     "duration": 0.013952,
     "end_time": "2023-04-30T17:22:48.562092",
     "exception": false,
     "start_time": "2023-04-30T17:22:48.548140",
     "status": "completed"
    },
    "tags": []
   },
   "outputs": [],
   "source": [
    "class DiffusionDataset(Dataset):\n",
    "    def __init__(self, df, transform):\n",
    "        self.df = df\n",
    "        self.transform = transform\n",
    "        \n",
    "    def __len__(self):\n",
    "        return len(self.df)\n",
    "\n",
    "    def __getitem__(self, idx):\n",
    "        row = self.df.iloc[idx]\n",
    "        image = Image.open(row['filepath'])\n",
    "        image = self.transform(image)\n",
    "        prompt = row['prompt']\n",
    "        return image, prompt\n"
   ]
  },
  {
   "cell_type": "code",
   "execution_count": 7,
   "id": "24acc1d9",
   "metadata": {
    "execution": {
     "iopub.execute_input": "2023-04-30T17:22:48.571608Z",
     "iopub.status.busy": "2023-04-30T17:22:48.571339Z",
     "iopub.status.idle": "2023-04-30T17:22:48.576998Z",
     "shell.execute_reply": "2023-04-30T17:22:48.576035Z"
    },
    "papermill": {
     "duration": 0.012806,
     "end_time": "2023-04-30T17:22:48.579003",
     "exception": false,
     "start_time": "2023-04-30T17:22:48.566197",
     "status": "completed"
    },
    "tags": []
   },
   "outputs": [],
   "source": [
    "class DiffusionCollator:\n",
    "    def __init__(self):\n",
    "        self.st_model = SentenceTransformer(\n",
    "            '/kaggle/input/sentence-transformers-222/all-MiniLM-L6-v2',\n",
    "            device='cpu'\n",
    "        )\n",
    "    \n",
    "    def __call__(self, batch):\n",
    "        images, prompts = zip(*batch)\n",
    "        images = torch.stack(images)\n",
    "        prompt_embeddings = self.st_model.encode(\n",
    "            prompts, \n",
    "            show_progress_bar=False, \n",
    "            convert_to_tensor=True\n",
    "        )\n",
    "        return images, prompt_embeddings\n",
    "    "
   ]
  },
  {
   "cell_type": "code",
   "execution_count": 8,
   "id": "4fa1047c",
   "metadata": {
    "execution": {
     "iopub.execute_input": "2023-04-30T17:22:48.588438Z",
     "iopub.status.busy": "2023-04-30T17:22:48.587558Z",
     "iopub.status.idle": "2023-04-30T17:22:48.595216Z",
     "shell.execute_reply": "2023-04-30T17:22:48.594352Z"
    },
    "papermill": {
     "duration": 0.014492,
     "end_time": "2023-04-30T17:22:48.597327",
     "exception": false,
     "start_time": "2023-04-30T17:22:48.582835",
     "status": "completed"
    },
    "tags": []
   },
   "outputs": [],
   "source": [
    "def get_dataloaders(\n",
    "    trn_df,\n",
    "    val_df,\n",
    "    input_size,\n",
    "    batch_size\n",
    "):\n",
    "    transform = transforms.Compose([\n",
    "        transforms.Resize(input_size),\n",
    "        transforms.ToTensor(),\n",
    "        transforms.Normalize([0.485, 0.456, 0.406], [0.229, 0.224, 0.225]),\n",
    "    ])\n",
    "\n",
    "    trn_dataset = DiffusionDataset(trn_df, transform)\n",
    "    val_dataset = DiffusionDataset(val_df, transform)\n",
    "    collator = DiffusionCollator()\n",
    "    \n",
    "    dataloaders = {}\n",
    "    dataloaders['train'] = DataLoader(\n",
    "        dataset=trn_dataset,\n",
    "        shuffle=True,\n",
    "        batch_size=batch_size,\n",
    "        pin_memory=True,\n",
    "        num_workers=2,\n",
    "        drop_last=True,\n",
    "        collate_fn=collator\n",
    "    )\n",
    "    dataloaders['val'] = DataLoader(\n",
    "        dataset=val_dataset,\n",
    "        shuffle=False,\n",
    "        batch_size=batch_size,\n",
    "        pin_memory=True,\n",
    "        num_workers=2,\n",
    "        drop_last=False,\n",
    "        collate_fn=collator\n",
    "    )\n",
    "    return dataloaders"
   ]
  },
  {
   "cell_type": "markdown",
   "id": "82b0aa4d",
   "metadata": {
    "papermill": {
     "duration": 0.003661,
     "end_time": "2023-04-30T17:22:48.604816",
     "exception": false,
     "start_time": "2023-04-30T17:22:48.601155",
     "status": "completed"
    },
    "tags": []
   },
   "source": [
    "# Train"
   ]
  },
  {
   "cell_type": "code",
   "execution_count": 9,
   "id": "0ace1fc5",
   "metadata": {
    "execution": {
     "iopub.execute_input": "2023-04-30T17:22:48.614968Z",
     "iopub.status.busy": "2023-04-30T17:22:48.613514Z",
     "iopub.status.idle": "2023-04-30T17:22:48.620119Z",
     "shell.execute_reply": "2023-04-30T17:22:48.619277Z"
    },
    "papermill": {
     "duration": 0.013306,
     "end_time": "2023-04-30T17:22:48.622173",
     "exception": false,
     "start_time": "2023-04-30T17:22:48.608867",
     "status": "completed"
    },
    "tags": []
   },
   "outputs": [],
   "source": [
    "class Net(nn.Module):\n",
    "    def __init__(self, model):\n",
    "        super(Net, self).__init__()\n",
    "        clip = model\n",
    "        self.vision = clip.visual\n",
    "        self.fc = nn.Linear(768, 384)\n",
    "\n",
    "    def forward(self, x):\n",
    "        out = self.vision(x)\n",
    "        return self.fc(out)"
   ]
  },
  {
   "cell_type": "code",
   "execution_count": 10,
   "id": "213dac6e",
   "metadata": {
    "execution": {
     "iopub.execute_input": "2023-04-30T17:22:48.632160Z",
     "iopub.status.busy": "2023-04-30T17:22:48.630722Z",
     "iopub.status.idle": "2023-04-30T17:22:48.649773Z",
     "shell.execute_reply": "2023-04-30T17:22:48.648705Z"
    },
    "papermill": {
     "duration": 0.02652,
     "end_time": "2023-04-30T17:22:48.652492",
     "exception": false,
     "start_time": "2023-04-30T17:22:48.625972",
     "status": "completed"
    },
    "tags": []
   },
   "outputs": [],
   "source": [
    "def cosine_similarity(y_trues, y_preds):\n",
    "    return np.mean([\n",
    "        1 - spatial.distance.cosine(y_true, y_pred) \n",
    "        for y_true, y_pred in zip(y_trues, y_preds)\n",
    "    ])\n",
    "\n",
    "\n",
    "\n",
    "def train(\n",
    "    trn_df,\n",
    "    val_df,\n",
    "    model_name,\n",
    "    input_size,\n",
    "    batch_size,\n",
    "    num_epochs,\n",
    "    lr,\n",
    "):\n",
    "    device = torch.device('cuda' if torch.cuda.is_available() else 'cpu')\n",
    "    dataloaders = get_dataloaders(\n",
    "        trn_df,\n",
    "        val_df,\n",
    "        input_size,\n",
    "        batch_size\n",
    "    )\n",
    "\n",
    "#     model = timm.create_model(\n",
    "#         model_name,\n",
    "#         pretrained=True,\n",
    "#         num_classes=384\n",
    "#     )\n",
    "    \n",
    "    model, _, preprocess = open_clip.create_model_and_transforms(model_name)\n",
    "    model = Net(model)\n",
    "    transform = preprocess\n",
    "    state_dict = torch.load(CFG.model_path)\n",
    "    model.load_state_dict(state_dict)\n",
    "#     model.set_grad_checkpointing()\n",
    "    model.to(device)\n",
    "    optimizer = torch.optim.SGD(model.parameters(), lr=lr, momentum=0.9)\n",
    "\n",
    "    ttl_iters = num_epochs * len(dataloaders['train'])\n",
    "    scheduler = CosineAnnealingLR(optimizer, T_max=ttl_iters, eta_min=1e-6)\n",
    "    criterion = nn.CosineEmbeddingLoss()\n",
    "    \n",
    "    best_score = -1.0\n",
    "\n",
    "    for epoch in range(num_epochs):\n",
    "        train_meters = {\n",
    "            'loss': AverageMeter(),\n",
    "            'cos': AverageMeter(),\n",
    "        }\n",
    "        model.train()\n",
    "        for X, y in tqdm(dataloaders['train'], leave=False):\n",
    "            X, y = X.to(device), y.to(device)\n",
    "\n",
    "            optimizer.zero_grad()\n",
    "            X_out = model(X)\n",
    "            target = torch.ones(X.size(0)).to(device)\n",
    "            loss = criterion(X_out, y, target)\n",
    "            loss.backward()\n",
    "\n",
    "            optimizer.step()\n",
    "            scheduler.step()\n",
    "\n",
    "            trn_loss = loss.item()\n",
    "            trn_cos = cosine_similarity(\n",
    "                X_out.detach().cpu().numpy(), \n",
    "                y.detach().cpu().numpy()\n",
    "            )\n",
    "\n",
    "            train_meters['loss'].update(trn_loss, n=X.size(0))\n",
    "            train_meters['cos'].update(trn_cos, n=X.size(0))\n",
    "\n",
    "        print('Epoch {:d} / trn/loss={:.4f}, trn/cos={:.4f}'.format(\n",
    "            epoch + 1,\n",
    "            train_meters['loss'].avg,\n",
    "            train_meters['cos'].avg))\n",
    "\n",
    "        val_meters = {\n",
    "            'loss': AverageMeter(),\n",
    "            'cos': AverageMeter(),\n",
    "        }\n",
    "        model.eval()\n",
    "        for X, y in tqdm(dataloaders['val'], leave=False):\n",
    "            X, y = X.to(device), y.to(device)\n",
    "\n",
    "            with torch.no_grad():\n",
    "                X_out = model(X)\n",
    "                target = torch.ones(X.size(0)).to(device)\n",
    "                loss = criterion(X_out, y, target)\n",
    "\n",
    "                val_loss = loss.item()\n",
    "                val_cos = cosine_similarity(\n",
    "                    X_out.detach().cpu().numpy(), \n",
    "                    y.detach().cpu().numpy()\n",
    "                )\n",
    "\n",
    "            val_meters['loss'].update(val_loss, n=X.size(0))\n",
    "            val_meters['cos'].update(val_cos, n=X.size(0))\n",
    "\n",
    "        print('Epoch {:d} / val/loss={:.4f}, val/cos={:.4f}'.format(\n",
    "            epoch + 1,\n",
    "            val_meters['loss'].avg,\n",
    "            val_meters['cos'].avg))\n",
    "        \n",
    "        if val_meters['cos'].avg > best_score:\n",
    "            best_score = val_meters['cos'].avg\n",
    "            torch.save(model.state_dict(), f'{model_name}.pth')"
   ]
  },
  {
   "cell_type": "code",
   "execution_count": 11,
   "id": "19166802",
   "metadata": {
    "execution": {
     "iopub.execute_input": "2023-04-30T17:22:48.662175Z",
     "iopub.status.busy": "2023-04-30T17:22:48.661382Z",
     "iopub.status.idle": "2023-04-30T17:22:49.400955Z",
     "shell.execute_reply": "2023-04-30T17:22:49.399926Z"
    },
    "papermill": {
     "duration": 0.746831,
     "end_time": "2023-04-30T17:22:49.403510",
     "exception": false,
     "start_time": "2023-04-30T17:22:48.656679",
     "status": "completed"
    },
    "tags": []
   },
   "outputs": [],
   "source": [
    "df = pd.read_csv('/kaggle/input/k/shoheiazuma/diffusiondb-data-cleansing/diffusiondb.csv')\n",
    "trn_df, val_df = train_test_split(df, test_size=0.1, random_state=CFG.seed)"
   ]
  },
  {
   "cell_type": "code",
   "execution_count": 12,
   "id": "59db6dda",
   "metadata": {
    "execution": {
     "iopub.execute_input": "2023-04-30T17:22:49.413055Z",
     "iopub.status.busy": "2023-04-30T17:22:49.412733Z",
     "iopub.status.idle": "2023-04-30T17:22:49.430149Z",
     "shell.execute_reply": "2023-04-30T17:22:49.429047Z"
    },
    "papermill": {
     "duration": 0.025262,
     "end_time": "2023-04-30T17:22:49.432990",
     "exception": false,
     "start_time": "2023-04-30T17:22:49.407728",
     "status": "completed"
    },
    "tags": []
   },
   "outputs": [
    {
     "data": {
      "text/html": [
       "<div>\n",
       "<style scoped>\n",
       "    .dataframe tbody tr th:only-of-type {\n",
       "        vertical-align: middle;\n",
       "    }\n",
       "\n",
       "    .dataframe tbody tr th {\n",
       "        vertical-align: top;\n",
       "    }\n",
       "\n",
       "    .dataframe thead th {\n",
       "        text-align: right;\n",
       "    }\n",
       "</style>\n",
       "<table border=\"1\" class=\"dataframe\">\n",
       "  <thead>\n",
       "    <tr style=\"text-align: right;\">\n",
       "      <th></th>\n",
       "      <th>filepath</th>\n",
       "      <th>prompt</th>\n",
       "    </tr>\n",
       "  </thead>\n",
       "  <tbody>\n",
       "    <tr>\n",
       "      <th>0</th>\n",
       "      <td>/kaggle/input/diffusiondb-2m-part-0001-to-0100...</td>\n",
       "      <td>a portrait of a female robot made from code, v...</td>\n",
       "    </tr>\n",
       "    <tr>\n",
       "      <th>1</th>\n",
       "      <td>/kaggle/input/diffusiondb-2m-part-0001-to-0100...</td>\n",
       "      <td>dream swimming pool with nobody</td>\n",
       "    </tr>\n",
       "    <tr>\n",
       "      <th>2</th>\n",
       "      <td>/kaggle/input/diffusiondb-2m-part-0001-to-0100...</td>\n",
       "      <td>a beautiful paint of cultists dancing surround...</td>\n",
       "    </tr>\n",
       "    <tr>\n",
       "      <th>3</th>\n",
       "      <td>/kaggle/input/diffusiondb-2m-part-0001-to-0100...</td>\n",
       "      <td>frontal portrait of ragged, worried twin women...</td>\n",
       "    </tr>\n",
       "    <tr>\n",
       "      <th>4</th>\n",
       "      <td>/kaggle/input/diffusiondb-2m-part-0001-to-0100...</td>\n",
       "      <td>a stunning portrait of an asian samurai with l...</td>\n",
       "    </tr>\n",
       "    <tr>\n",
       "      <th>...</th>\n",
       "      <td>...</td>\n",
       "      <td>...</td>\n",
       "    </tr>\n",
       "    <tr>\n",
       "      <th>154315</th>\n",
       "      <td>/kaggle/input/diffusiondb-2m-part-1901-to-2000...</td>\n",
       "      <td>obama transformed into a penguin, a combinatio...</td>\n",
       "    </tr>\n",
       "    <tr>\n",
       "      <th>154316</th>\n",
       "      <td>/kaggle/input/diffusiondb-2m-part-1901-to-2000...</td>\n",
       "      <td>new york invaded by nazis, concept art</td>\n",
       "    </tr>\n",
       "    <tr>\n",
       "      <th>154317</th>\n",
       "      <td>/kaggle/input/diffusiondb-2m-part-1901-to-2000...</td>\n",
       "      <td>a owlish, aquiline picture of an owl sitting o...</td>\n",
       "    </tr>\n",
       "    <tr>\n",
       "      <th>154318</th>\n",
       "      <td>/kaggle/input/diffusiondb-2m-part-1901-to-2000...</td>\n",
       "      <td>a owlish, elaborate painting of an owl sitting...</td>\n",
       "    </tr>\n",
       "    <tr>\n",
       "      <th>154319</th>\n",
       "      <td>/kaggle/input/diffusiondb-2m-part-1901-to-2000...</td>\n",
       "      <td>a rose with the face of jerry garcia</td>\n",
       "    </tr>\n",
       "  </tbody>\n",
       "</table>\n",
       "<p>154320 rows × 2 columns</p>\n",
       "</div>"
      ],
      "text/plain": [
       "                                                 filepath  \\\n",
       "0       /kaggle/input/diffusiondb-2m-part-0001-to-0100...   \n",
       "1       /kaggle/input/diffusiondb-2m-part-0001-to-0100...   \n",
       "2       /kaggle/input/diffusiondb-2m-part-0001-to-0100...   \n",
       "3       /kaggle/input/diffusiondb-2m-part-0001-to-0100...   \n",
       "4       /kaggle/input/diffusiondb-2m-part-0001-to-0100...   \n",
       "...                                                   ...   \n",
       "154315  /kaggle/input/diffusiondb-2m-part-1901-to-2000...   \n",
       "154316  /kaggle/input/diffusiondb-2m-part-1901-to-2000...   \n",
       "154317  /kaggle/input/diffusiondb-2m-part-1901-to-2000...   \n",
       "154318  /kaggle/input/diffusiondb-2m-part-1901-to-2000...   \n",
       "154319  /kaggle/input/diffusiondb-2m-part-1901-to-2000...   \n",
       "\n",
       "                                                   prompt  \n",
       "0       a portrait of a female robot made from code, v...  \n",
       "1                         dream swimming pool with nobody  \n",
       "2       a beautiful paint of cultists dancing surround...  \n",
       "3       frontal portrait of ragged, worried twin women...  \n",
       "4       a stunning portrait of an asian samurai with l...  \n",
       "...                                                   ...  \n",
       "154315  obama transformed into a penguin, a combinatio...  \n",
       "154316             new york invaded by nazis, concept art  \n",
       "154317  a owlish, aquiline picture of an owl sitting o...  \n",
       "154318  a owlish, elaborate painting of an owl sitting...  \n",
       "154319               a rose with the face of jerry garcia  \n",
       "\n",
       "[154320 rows x 2 columns]"
      ]
     },
     "execution_count": 12,
     "metadata": {},
     "output_type": "execute_result"
    }
   ],
   "source": []
  },
  {
   "cell_type": "code",
   "execution_count": 13,
   "id": "2eda79e9",
   "metadata": {
    "execution": {
     "iopub.execute_input": "2023-04-30T17:22:49.442742Z",
     "iopub.status.busy": "2023-04-30T17:22:49.442245Z",
     "iopub.status.idle": "2023-04-30T20:47:00.611405Z",
     "shell.execute_reply": "2023-04-30T20:47:00.609574Z"
    },
    "papermill": {
     "duration": 12251.179029,
     "end_time": "2023-04-30T20:47:00.616191",
     "exception": false,
     "start_time": "2023-04-30T17:22:49.437162",
     "status": "completed"
    },
    "tags": []
   },
   "outputs": [
    {
     "data": {
      "application/vnd.jupyter.widget-view+json": {
       "model_id": "d7dbac9b9816485d888bae01f152cd0c",
       "version_major": 2,
       "version_minor": 0
      },
      "text/plain": [
       "  0%|          | 0/8680 [00:00<?, ?it/s]"
      ]
     },
     "metadata": {},
     "output_type": "display_data"
    },
    {
     "name": "stdout",
     "output_type": "stream",
     "text": [
      "Epoch 1 / trn/loss=0.3347, trn/cos=0.6653\n"
     ]
    },
    {
     "data": {
      "application/vnd.jupyter.widget-view+json": {
       "model_id": "5605f0581f6c4a088a829081d71ff1fb",
       "version_major": 2,
       "version_minor": 0
      },
      "text/plain": [
       "  0%|          | 0/965 [00:00<?, ?it/s]"
      ]
     },
     "metadata": {},
     "output_type": "display_data"
    },
    {
     "name": "stdout",
     "output_type": "stream",
     "text": [
      "Epoch 1 / val/loss=0.3280, val/cos=0.6720\n"
     ]
    }
   ],
   "source": [
    "train(trn_df, val_df, CFG.model_name, CFG.input_size, CFG.batch_size, CFG.num_epochs, CFG.lr)"
   ]
  },
  {
   "cell_type": "code",
   "execution_count": null,
   "id": "86093043",
   "metadata": {
    "papermill": {
     "duration": 0.00781,
     "end_time": "2023-04-30T20:47:00.637194",
     "exception": false,
     "start_time": "2023-04-30T20:47:00.629384",
     "status": "completed"
    },
    "tags": []
   },
   "outputs": [],
   "source": []
  }
 ],
 "metadata": {
  "kernelspec": {
   "display_name": "Python 3",
   "language": "python",
   "name": "python3"
  },
  "language_info": {
   "codemirror_mode": {
    "name": "ipython",
    "version": 3
   },
   "file_extension": ".py",
   "mimetype": "text/x-python",
   "name": "python",
   "nbconvert_exporter": "python",
   "pygments_lexer": "ipython3",
   "version": "3.7.12"
  },
  "papermill": {
   "default_parameters": {},
   "duration": 12287.6764,
   "end_time": "2023-04-30T20:47:03.657546",
   "environment_variables": {},
   "exception": null,
   "input_path": "__notebook__.ipynb",
   "output_path": "__notebook__.ipynb",
   "parameters": {},
   "start_time": "2023-04-30T17:22:15.981146",
   "version": "2.4.0"
  },
  "widgets": {
   "application/vnd.jupyter.widget-state+json": {
    "state": {
     "05f6ad7983a9454e8964b2b349b24fe7": {
      "model_module": "@jupyter-widgets/controls",
      "model_module_version": "1.5.0",
      "model_name": "FloatProgressModel",
      "state": {
       "_dom_classes": [],
       "_model_module": "@jupyter-widgets/controls",
       "_model_module_version": "1.5.0",
       "_model_name": "FloatProgressModel",
       "_view_count": null,
       "_view_module": "@jupyter-widgets/controls",
       "_view_module_version": "1.5.0",
       "_view_name": "ProgressView",
       "bar_style": "",
       "description": "",
       "description_tooltip": null,
       "layout": "IPY_MODEL_8bdbbce9ada64d8da338741c277898a5",
       "max": 965,
       "min": 0,
       "orientation": "horizontal",
       "style": "IPY_MODEL_f29a31cc7eb14899b1437b31a6951f38",
       "value": 965
      }
     },
     "115a3be14c344750a7560cbdde874f31": {
      "model_module": "@jupyter-widgets/base",
      "model_module_version": "1.2.0",
      "model_name": "LayoutModel",
      "state": {
       "_model_module": "@jupyter-widgets/base",
       "_model_module_version": "1.2.0",
       "_model_name": "LayoutModel",
       "_view_count": null,
       "_view_module": "@jupyter-widgets/base",
       "_view_module_version": "1.2.0",
       "_view_name": "LayoutView",
       "align_content": null,
       "align_items": null,
       "align_self": null,
       "border": null,
       "bottom": null,
       "display": null,
       "flex": null,
       "flex_flow": null,
       "grid_area": null,
       "grid_auto_columns": null,
       "grid_auto_flow": null,
       "grid_auto_rows": null,
       "grid_column": null,
       "grid_gap": null,
       "grid_row": null,
       "grid_template_areas": null,
       "grid_template_columns": null,
       "grid_template_rows": null,
       "height": null,
       "justify_content": null,
       "justify_items": null,
       "left": null,
       "margin": null,
       "max_height": null,
       "max_width": null,
       "min_height": null,
       "min_width": null,
       "object_fit": null,
       "object_position": null,
       "order": null,
       "overflow": null,
       "overflow_x": null,
       "overflow_y": null,
       "padding": null,
       "right": null,
       "top": null,
       "visibility": "hidden",
       "width": null
      }
     },
     "1eaa88c2209e4b0e973b349cbc285c03": {
      "model_module": "@jupyter-widgets/controls",
      "model_module_version": "1.5.0",
      "model_name": "FloatProgressModel",
      "state": {
       "_dom_classes": [],
       "_model_module": "@jupyter-widgets/controls",
       "_model_module_version": "1.5.0",
       "_model_name": "FloatProgressModel",
       "_view_count": null,
       "_view_module": "@jupyter-widgets/controls",
       "_view_module_version": "1.5.0",
       "_view_name": "ProgressView",
       "bar_style": "",
       "description": "",
       "description_tooltip": null,
       "layout": "IPY_MODEL_848d5cf9a73546328c7ffdb4f41dedf4",
       "max": 8680,
       "min": 0,
       "orientation": "horizontal",
       "style": "IPY_MODEL_da3c9951666e4fd5abf72f496ab06e75",
       "value": 8680
      }
     },
     "1f832bffd7ae40339223e462dda7837a": {
      "model_module": "@jupyter-widgets/base",
      "model_module_version": "1.2.0",
      "model_name": "LayoutModel",
      "state": {
       "_model_module": "@jupyter-widgets/base",
       "_model_module_version": "1.2.0",
       "_model_name": "LayoutModel",
       "_view_count": null,
       "_view_module": "@jupyter-widgets/base",
       "_view_module_version": "1.2.0",
       "_view_name": "LayoutView",
       "align_content": null,
       "align_items": null,
       "align_self": null,
       "border": null,
       "bottom": null,
       "display": null,
       "flex": null,
       "flex_flow": null,
       "grid_area": null,
       "grid_auto_columns": null,
       "grid_auto_flow": null,
       "grid_auto_rows": null,
       "grid_column": null,
       "grid_gap": null,
       "grid_row": null,
       "grid_template_areas": null,
       "grid_template_columns": null,
       "grid_template_rows": null,
       "height": null,
       "justify_content": null,
       "justify_items": null,
       "left": null,
       "margin": null,
       "max_height": null,
       "max_width": null,
       "min_height": null,
       "min_width": null,
       "object_fit": null,
       "object_position": null,
       "order": null,
       "overflow": null,
       "overflow_x": null,
       "overflow_y": null,
       "padding": null,
       "right": null,
       "top": null,
       "visibility": null,
       "width": null
      }
     },
     "407ebdc9c1f048f1a2b1044c1fe472eb": {
      "model_module": "@jupyter-widgets/controls",
      "model_module_version": "1.5.0",
      "model_name": "DescriptionStyleModel",
      "state": {
       "_model_module": "@jupyter-widgets/controls",
       "_model_module_version": "1.5.0",
       "_model_name": "DescriptionStyleModel",
       "_view_count": null,
       "_view_module": "@jupyter-widgets/base",
       "_view_module_version": "1.2.0",
       "_view_name": "StyleView",
       "description_width": ""
      }
     },
     "4d81f2f2318e4d73ab6c440944d28693": {
      "model_module": "@jupyter-widgets/controls",
      "model_module_version": "1.5.0",
      "model_name": "HTMLModel",
      "state": {
       "_dom_classes": [],
       "_model_module": "@jupyter-widgets/controls",
       "_model_module_version": "1.5.0",
       "_model_name": "HTMLModel",
       "_view_count": null,
       "_view_module": "@jupyter-widgets/controls",
       "_view_module_version": "1.5.0",
       "_view_name": "HTMLView",
       "description": "",
       "description_tooltip": null,
       "layout": "IPY_MODEL_c7bea3d27a2d456bb1e6e05261ebb0d6",
       "placeholder": "​",
       "style": "IPY_MODEL_9d3ed3ccc83f41c082153bbe16993fb0",
       "value": "100%"
      }
     },
     "5039257388394e6aba361a387071a949": {
      "model_module": "@jupyter-widgets/base",
      "model_module_version": "1.2.0",
      "model_name": "LayoutModel",
      "state": {
       "_model_module": "@jupyter-widgets/base",
       "_model_module_version": "1.2.0",
       "_model_name": "LayoutModel",
       "_view_count": null,
       "_view_module": "@jupyter-widgets/base",
       "_view_module_version": "1.2.0",
       "_view_name": "LayoutView",
       "align_content": null,
       "align_items": null,
       "align_self": null,
       "border": null,
       "bottom": null,
       "display": null,
       "flex": null,
       "flex_flow": null,
       "grid_area": null,
       "grid_auto_columns": null,
       "grid_auto_flow": null,
       "grid_auto_rows": null,
       "grid_column": null,
       "grid_gap": null,
       "grid_row": null,
       "grid_template_areas": null,
       "grid_template_columns": null,
       "grid_template_rows": null,
       "height": null,
       "justify_content": null,
       "justify_items": null,
       "left": null,
       "margin": null,
       "max_height": null,
       "max_width": null,
       "min_height": null,
       "min_width": null,
       "object_fit": null,
       "object_position": null,
       "order": null,
       "overflow": null,
       "overflow_x": null,
       "overflow_y": null,
       "padding": null,
       "right": null,
       "top": null,
       "visibility": null,
       "width": null
      }
     },
     "536895502c9d426fa4717f4bb10cf75b": {
      "model_module": "@jupyter-widgets/base",
      "model_module_version": "1.2.0",
      "model_name": "LayoutModel",
      "state": {
       "_model_module": "@jupyter-widgets/base",
       "_model_module_version": "1.2.0",
       "_model_name": "LayoutModel",
       "_view_count": null,
       "_view_module": "@jupyter-widgets/base",
       "_view_module_version": "1.2.0",
       "_view_name": "LayoutView",
       "align_content": null,
       "align_items": null,
       "align_self": null,
       "border": null,
       "bottom": null,
       "display": null,
       "flex": null,
       "flex_flow": null,
       "grid_area": null,
       "grid_auto_columns": null,
       "grid_auto_flow": null,
       "grid_auto_rows": null,
       "grid_column": null,
       "grid_gap": null,
       "grid_row": null,
       "grid_template_areas": null,
       "grid_template_columns": null,
       "grid_template_rows": null,
       "height": null,
       "justify_content": null,
       "justify_items": null,
       "left": null,
       "margin": null,
       "max_height": null,
       "max_width": null,
       "min_height": null,
       "min_width": null,
       "object_fit": null,
       "object_position": null,
       "order": null,
       "overflow": null,
       "overflow_x": null,
       "overflow_y": null,
       "padding": null,
       "right": null,
       "top": null,
       "visibility": null,
       "width": null
      }
     },
     "5605f0581f6c4a088a829081d71ff1fb": {
      "model_module": "@jupyter-widgets/controls",
      "model_module_version": "1.5.0",
      "model_name": "HBoxModel",
      "state": {
       "_dom_classes": [],
       "_model_module": "@jupyter-widgets/controls",
       "_model_module_version": "1.5.0",
       "_model_name": "HBoxModel",
       "_view_count": null,
       "_view_module": "@jupyter-widgets/controls",
       "_view_module_version": "1.5.0",
       "_view_name": "HBoxView",
       "box_style": "",
       "children": [
        "IPY_MODEL_4d81f2f2318e4d73ab6c440944d28693",
        "IPY_MODEL_05f6ad7983a9454e8964b2b349b24fe7",
        "IPY_MODEL_d05bf2709fff4322a2aa229a32387183"
       ],
       "layout": "IPY_MODEL_115a3be14c344750a7560cbdde874f31"
      }
     },
     "848d5cf9a73546328c7ffdb4f41dedf4": {
      "model_module": "@jupyter-widgets/base",
      "model_module_version": "1.2.0",
      "model_name": "LayoutModel",
      "state": {
       "_model_module": "@jupyter-widgets/base",
       "_model_module_version": "1.2.0",
       "_model_name": "LayoutModel",
       "_view_count": null,
       "_view_module": "@jupyter-widgets/base",
       "_view_module_version": "1.2.0",
       "_view_name": "LayoutView",
       "align_content": null,
       "align_items": null,
       "align_self": null,
       "border": null,
       "bottom": null,
       "display": null,
       "flex": null,
       "flex_flow": null,
       "grid_area": null,
       "grid_auto_columns": null,
       "grid_auto_flow": null,
       "grid_auto_rows": null,
       "grid_column": null,
       "grid_gap": null,
       "grid_row": null,
       "grid_template_areas": null,
       "grid_template_columns": null,
       "grid_template_rows": null,
       "height": null,
       "justify_content": null,
       "justify_items": null,
       "left": null,
       "margin": null,
       "max_height": null,
       "max_width": null,
       "min_height": null,
       "min_width": null,
       "object_fit": null,
       "object_position": null,
       "order": null,
       "overflow": null,
       "overflow_x": null,
       "overflow_y": null,
       "padding": null,
       "right": null,
       "top": null,
       "visibility": null,
       "width": null
      }
     },
     "856759fc9da64b9fa70ded8e53879aec": {
      "model_module": "@jupyter-widgets/base",
      "model_module_version": "1.2.0",
      "model_name": "LayoutModel",
      "state": {
       "_model_module": "@jupyter-widgets/base",
       "_model_module_version": "1.2.0",
       "_model_name": "LayoutModel",
       "_view_count": null,
       "_view_module": "@jupyter-widgets/base",
       "_view_module_version": "1.2.0",
       "_view_name": "LayoutView",
       "align_content": null,
       "align_items": null,
       "align_self": null,
       "border": null,
       "bottom": null,
       "display": null,
       "flex": null,
       "flex_flow": null,
       "grid_area": null,
       "grid_auto_columns": null,
       "grid_auto_flow": null,
       "grid_auto_rows": null,
       "grid_column": null,
       "grid_gap": null,
       "grid_row": null,
       "grid_template_areas": null,
       "grid_template_columns": null,
       "grid_template_rows": null,
       "height": null,
       "justify_content": null,
       "justify_items": null,
       "left": null,
       "margin": null,
       "max_height": null,
       "max_width": null,
       "min_height": null,
       "min_width": null,
       "object_fit": null,
       "object_position": null,
       "order": null,
       "overflow": null,
       "overflow_x": null,
       "overflow_y": null,
       "padding": null,
       "right": null,
       "top": null,
       "visibility": "hidden",
       "width": null
      }
     },
     "85aae807fb5e4a85b77b0de6cb59ce86": {
      "model_module": "@jupyter-widgets/controls",
      "model_module_version": "1.5.0",
      "model_name": "DescriptionStyleModel",
      "state": {
       "_model_module": "@jupyter-widgets/controls",
       "_model_module_version": "1.5.0",
       "_model_name": "DescriptionStyleModel",
       "_view_count": null,
       "_view_module": "@jupyter-widgets/base",
       "_view_module_version": "1.2.0",
       "_view_name": "StyleView",
       "description_width": ""
      }
     },
     "8bdbbce9ada64d8da338741c277898a5": {
      "model_module": "@jupyter-widgets/base",
      "model_module_version": "1.2.0",
      "model_name": "LayoutModel",
      "state": {
       "_model_module": "@jupyter-widgets/base",
       "_model_module_version": "1.2.0",
       "_model_name": "LayoutModel",
       "_view_count": null,
       "_view_module": "@jupyter-widgets/base",
       "_view_module_version": "1.2.0",
       "_view_name": "LayoutView",
       "align_content": null,
       "align_items": null,
       "align_self": null,
       "border": null,
       "bottom": null,
       "display": null,
       "flex": null,
       "flex_flow": null,
       "grid_area": null,
       "grid_auto_columns": null,
       "grid_auto_flow": null,
       "grid_auto_rows": null,
       "grid_column": null,
       "grid_gap": null,
       "grid_row": null,
       "grid_template_areas": null,
       "grid_template_columns": null,
       "grid_template_rows": null,
       "height": null,
       "justify_content": null,
       "justify_items": null,
       "left": null,
       "margin": null,
       "max_height": null,
       "max_width": null,
       "min_height": null,
       "min_width": null,
       "object_fit": null,
       "object_position": null,
       "order": null,
       "overflow": null,
       "overflow_x": null,
       "overflow_y": null,
       "padding": null,
       "right": null,
       "top": null,
       "visibility": null,
       "width": null
      }
     },
     "9d3ed3ccc83f41c082153bbe16993fb0": {
      "model_module": "@jupyter-widgets/controls",
      "model_module_version": "1.5.0",
      "model_name": "DescriptionStyleModel",
      "state": {
       "_model_module": "@jupyter-widgets/controls",
       "_model_module_version": "1.5.0",
       "_model_name": "DescriptionStyleModel",
       "_view_count": null,
       "_view_module": "@jupyter-widgets/base",
       "_view_module_version": "1.2.0",
       "_view_name": "StyleView",
       "description_width": ""
      }
     },
     "c02d989ef17e47f28f6c714ce5d6f808": {
      "model_module": "@jupyter-widgets/controls",
      "model_module_version": "1.5.0",
      "model_name": "HTMLModel",
      "state": {
       "_dom_classes": [],
       "_model_module": "@jupyter-widgets/controls",
       "_model_module_version": "1.5.0",
       "_model_name": "HTMLModel",
       "_view_count": null,
       "_view_module": "@jupyter-widgets/controls",
       "_view_module_version": "1.5.0",
       "_view_name": "HTMLView",
       "description": "",
       "description_tooltip": null,
       "layout": "IPY_MODEL_1f832bffd7ae40339223e462dda7837a",
       "placeholder": "​",
       "style": "IPY_MODEL_85aae807fb5e4a85b77b0de6cb59ce86",
       "value": "100%"
      }
     },
     "c7bea3d27a2d456bb1e6e05261ebb0d6": {
      "model_module": "@jupyter-widgets/base",
      "model_module_version": "1.2.0",
      "model_name": "LayoutModel",
      "state": {
       "_model_module": "@jupyter-widgets/base",
       "_model_module_version": "1.2.0",
       "_model_name": "LayoutModel",
       "_view_count": null,
       "_view_module": "@jupyter-widgets/base",
       "_view_module_version": "1.2.0",
       "_view_name": "LayoutView",
       "align_content": null,
       "align_items": null,
       "align_self": null,
       "border": null,
       "bottom": null,
       "display": null,
       "flex": null,
       "flex_flow": null,
       "grid_area": null,
       "grid_auto_columns": null,
       "grid_auto_flow": null,
       "grid_auto_rows": null,
       "grid_column": null,
       "grid_gap": null,
       "grid_row": null,
       "grid_template_areas": null,
       "grid_template_columns": null,
       "grid_template_rows": null,
       "height": null,
       "justify_content": null,
       "justify_items": null,
       "left": null,
       "margin": null,
       "max_height": null,
       "max_width": null,
       "min_height": null,
       "min_width": null,
       "object_fit": null,
       "object_position": null,
       "order": null,
       "overflow": null,
       "overflow_x": null,
       "overflow_y": null,
       "padding": null,
       "right": null,
       "top": null,
       "visibility": null,
       "width": null
      }
     },
     "c9058b8c567741a783038df1a708f5b0": {
      "model_module": "@jupyter-widgets/controls",
      "model_module_version": "1.5.0",
      "model_name": "DescriptionStyleModel",
      "state": {
       "_model_module": "@jupyter-widgets/controls",
       "_model_module_version": "1.5.0",
       "_model_name": "DescriptionStyleModel",
       "_view_count": null,
       "_view_module": "@jupyter-widgets/base",
       "_view_module_version": "1.2.0",
       "_view_name": "StyleView",
       "description_width": ""
      }
     },
     "d05bf2709fff4322a2aa229a32387183": {
      "model_module": "@jupyter-widgets/controls",
      "model_module_version": "1.5.0",
      "model_name": "HTMLModel",
      "state": {
       "_dom_classes": [],
       "_model_module": "@jupyter-widgets/controls",
       "_model_module_version": "1.5.0",
       "_model_name": "HTMLModel",
       "_view_count": null,
       "_view_module": "@jupyter-widgets/controls",
       "_view_module_version": "1.5.0",
       "_view_name": "HTMLView",
       "description": "",
       "description_tooltip": null,
       "layout": "IPY_MODEL_536895502c9d426fa4717f4bb10cf75b",
       "placeholder": "​",
       "style": "IPY_MODEL_407ebdc9c1f048f1a2b1044c1fe472eb",
       "value": " 965/965 [07:47&lt;00:00,  3.14it/s]"
      }
     },
     "d5f96ad5c105439886e008f2a50658f4": {
      "model_module": "@jupyter-widgets/controls",
      "model_module_version": "1.5.0",
      "model_name": "HTMLModel",
      "state": {
       "_dom_classes": [],
       "_model_module": "@jupyter-widgets/controls",
       "_model_module_version": "1.5.0",
       "_model_name": "HTMLModel",
       "_view_count": null,
       "_view_module": "@jupyter-widgets/controls",
       "_view_module_version": "1.5.0",
       "_view_name": "HTMLView",
       "description": "",
       "description_tooltip": null,
       "layout": "IPY_MODEL_5039257388394e6aba361a387071a949",
       "placeholder": "​",
       "style": "IPY_MODEL_c9058b8c567741a783038df1a708f5b0",
       "value": " 8680/8680 [3:16:02&lt;00:00,  1.35s/it]"
      }
     },
     "d7dbac9b9816485d888bae01f152cd0c": {
      "model_module": "@jupyter-widgets/controls",
      "model_module_version": "1.5.0",
      "model_name": "HBoxModel",
      "state": {
       "_dom_classes": [],
       "_model_module": "@jupyter-widgets/controls",
       "_model_module_version": "1.5.0",
       "_model_name": "HBoxModel",
       "_view_count": null,
       "_view_module": "@jupyter-widgets/controls",
       "_view_module_version": "1.5.0",
       "_view_name": "HBoxView",
       "box_style": "",
       "children": [
        "IPY_MODEL_c02d989ef17e47f28f6c714ce5d6f808",
        "IPY_MODEL_1eaa88c2209e4b0e973b349cbc285c03",
        "IPY_MODEL_d5f96ad5c105439886e008f2a50658f4"
       ],
       "layout": "IPY_MODEL_856759fc9da64b9fa70ded8e53879aec"
      }
     },
     "da3c9951666e4fd5abf72f496ab06e75": {
      "model_module": "@jupyter-widgets/controls",
      "model_module_version": "1.5.0",
      "model_name": "ProgressStyleModel",
      "state": {
       "_model_module": "@jupyter-widgets/controls",
       "_model_module_version": "1.5.0",
       "_model_name": "ProgressStyleModel",
       "_view_count": null,
       "_view_module": "@jupyter-widgets/base",
       "_view_module_version": "1.2.0",
       "_view_name": "StyleView",
       "bar_color": null,
       "description_width": ""
      }
     },
     "f29a31cc7eb14899b1437b31a6951f38": {
      "model_module": "@jupyter-widgets/controls",
      "model_module_version": "1.5.0",
      "model_name": "ProgressStyleModel",
      "state": {
       "_model_module": "@jupyter-widgets/controls",
       "_model_module_version": "1.5.0",
       "_model_name": "ProgressStyleModel",
       "_view_count": null,
       "_view_module": "@jupyter-widgets/base",
       "_view_module_version": "1.2.0",
       "_view_name": "StyleView",
       "bar_color": null,
       "description_width": ""
      }
     }
    },
    "version_major": 2,
    "version_minor": 0
   }
  }
 },
 "nbformat": 4,
 "nbformat_minor": 5
}
